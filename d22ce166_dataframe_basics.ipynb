{
  "cells": [
    {
      "cell_type": "markdown",
      "metadata": {
        "id": "view-in-github",
        "colab_type": "text"
      },
      "source": [
        "<a href=\"https://colab.research.google.com/github/het-khatusuriya/ML/blob/main/d22ce166_dataframe_basics.ipynb\" target=\"_parent\"><img src=\"https://colab.research.google.com/assets/colab-badge.svg\" alt=\"Open In Colab\"/></a>"
      ]
    },
    {
      "cell_type": "markdown",
      "metadata": {
        "id": "dCAGvKI909Td"
      },
      "source": [
        "# <font color=\"purple\"><h3 align=\"center\">DataFrame Basics Tutorial</h3></font>"
      ]
    },
    {
      "cell_type": "markdown",
      "metadata": {
        "id": "2RVsNt8j09Tf"
      },
      "source": [
        "## **Dataframe is most commonly used object in pandas. It is a table like datastructure containing rows and columns similar to excel spreadsheet**"
      ]
    },
    {
      "cell_type": "markdown",
      "metadata": {
        "id": "lJcg9pNR09Tg"
      },
      "source": []
    },
    {
      "cell_type": "code",
      "execution_count": null,
      "metadata": {
        "jupyter": {
          "outputs_hidden": false
        },
        "id": "9QnWjod509Tg"
      },
      "outputs": [],
      "source": [
        "import pandas as pd\n",
        "# frm this we can make own data set whose name is weather_data.\n",
        "weather_data = {\n",
        "    'day': ['1/1/2017','1/2/2017','1/3/2017','1/4/2017','1/5/2017','1/6/2017'],\n",
        "    'temperature': [33,35,28,24,32,31],\n",
        "    'windspeed': [6,7,2,7,4,2],\n",
        "    'event': ['Rain', 'Sunny', 'Snow','Snow','Rain', 'Sunny']\n",
        "}\n",
        "#here we show the dataframe\n",
        "df = pd.DataFrame(weather_data)\n",
        "# df.to_csv(\"saved.csv\")"
      ]
    },
    {
      "cell_type": "code",
      "execution_count": null,
      "metadata": {
        "id": "rofKQ1Ze09Th",
        "outputId": "7237965d-31f6-4a33-c7df-31de34e97e1d"
      },
      "outputs": [
        {
          "data": {
            "text/plain": [
              "(6, 4)"
            ]
          },
          "execution_count": 4,
          "metadata": {},
          "output_type": "execute_result"
        }
      ],
      "source": [
        "df.shape\n",
        "#here we can shape dataframe as 6 rows and 4 column"
      ]
    },
    {
      "cell_type": "code",
      "execution_count": null,
      "metadata": {
        "id": "uv6Ao7GB09Ti",
        "outputId": "2b30f4c4-76c9-486b-d487-dc028faa8cc8"
      },
      "outputs": [
        {
          "data": {
            "text/html": [
              "<div>\n",
              "<style scoped>\n",
              "    .dataframe tbody tr th:only-of-type {\n",
              "        vertical-align: middle;\n",
              "    }\n",
              "\n",
              "    .dataframe tbody tr th {\n",
              "        vertical-align: top;\n",
              "    }\n",
              "\n",
              "    .dataframe thead th {\n",
              "        text-align: right;\n",
              "    }\n",
              "</style>\n",
              "<table border=\"1\" class=\"dataframe\">\n",
              "  <thead>\n",
              "    <tr style=\"text-align: right;\">\n",
              "      <th></th>\n",
              "      <th>day</th>\n",
              "      <th>temperature</th>\n",
              "      <th>windspeed</th>\n",
              "      <th>event</th>\n",
              "    </tr>\n",
              "  </thead>\n",
              "  <tbody>\n",
              "    <tr>\n",
              "      <th>0</th>\n",
              "      <td>01-01-2019</td>\n",
              "      <td>32</td>\n",
              "      <td>6</td>\n",
              "      <td>Rain</td>\n",
              "    </tr>\n",
              "    <tr>\n",
              "      <th>1</th>\n",
              "      <td>02-01-2019</td>\n",
              "      <td>35</td>\n",
              "      <td>7</td>\n",
              "      <td>Sunny</td>\n",
              "    </tr>\n",
              "    <tr>\n",
              "      <th>2</th>\n",
              "      <td>03-01-2019</td>\n",
              "      <td>28</td>\n",
              "      <td>2</td>\n",
              "      <td>Snow</td>\n",
              "    </tr>\n",
              "    <tr>\n",
              "      <th>3</th>\n",
              "      <td>04-01-2019</td>\n",
              "      <td>24</td>\n",
              "      <td>7</td>\n",
              "      <td>Snow</td>\n",
              "    </tr>\n",
              "    <tr>\n",
              "      <th>4</th>\n",
              "      <td>05-01-2019</td>\n",
              "      <td>32</td>\n",
              "      <td>4</td>\n",
              "      <td>Rain</td>\n",
              "    </tr>\n",
              "    <tr>\n",
              "      <th>5</th>\n",
              "      <td>06-01-2019</td>\n",
              "      <td>31</td>\n",
              "      <td>2</td>\n",
              "      <td>Sunny</td>\n",
              "    </tr>\n",
              "  </tbody>\n",
              "</table>\n",
              "</div>"
            ],
            "text/plain": [
              "          day  temperature  windspeed  event\n",
              "0  01-01-2019           32          6   Rain\n",
              "1  02-01-2019           35          7  Sunny\n",
              "2  03-01-2019           28          2   Snow\n",
              "3  04-01-2019           24          7   Snow\n",
              "4  05-01-2019           32          4   Rain\n",
              "5  06-01-2019           31          2  Sunny"
            ]
          },
          "execution_count": 5,
          "metadata": {},
          "output_type": "execute_result"
        }
      ],
      "source": [
        "df = pd.read_csv(\"weather_data.csv\")\n",
        "#here we can read the dataframe\n",
        "df"
      ]
    },
    {
      "cell_type": "code",
      "execution_count": null,
      "metadata": {
        "jupyter": {
          "outputs_hidden": false
        },
        "id": "TLOvW70P09Ti",
        "outputId": "f762d207-c349-489d-80c4-322b0e94156b"
      },
      "outputs": [
        {
          "data": {
            "text/plain": [
              "(6, 4)"
            ]
          },
          "execution_count": 6,
          "metadata": {},
          "output_type": "execute_result"
        }
      ],
      "source": [
        "df.shape # rows, columns = df.shape\n",
        "#from the shape method we get the shape of dataframe"
      ]
    },
    {
      "cell_type": "markdown",
      "metadata": {
        "id": "3pZ_U85_09Ti"
      },
      "source": [
        "## <font color='blue'>Rows</font>"
      ]
    },
    {
      "cell_type": "code",
      "execution_count": null,
      "metadata": {
        "jupyter": {
          "outputs_hidden": false
        },
        "id": "csXn0bI909Ti",
        "outputId": "4977fd25-b78a-4795-e4cb-b2bb98c04584"
      },
      "outputs": [
        {
          "data": {
            "text/html": [
              "<div>\n",
              "<style scoped>\n",
              "    .dataframe tbody tr th:only-of-type {\n",
              "        vertical-align: middle;\n",
              "    }\n",
              "\n",
              "    .dataframe tbody tr th {\n",
              "        vertical-align: top;\n",
              "    }\n",
              "\n",
              "    .dataframe thead th {\n",
              "        text-align: right;\n",
              "    }\n",
              "</style>\n",
              "<table border=\"1\" class=\"dataframe\">\n",
              "  <thead>\n",
              "    <tr style=\"text-align: right;\">\n",
              "      <th></th>\n",
              "      <th>day</th>\n",
              "      <th>temperature</th>\n",
              "      <th>windspeed</th>\n",
              "      <th>event</th>\n",
              "    </tr>\n",
              "  </thead>\n",
              "  <tbody>\n",
              "    <tr>\n",
              "      <th>0</th>\n",
              "      <td>01-01-2019</td>\n",
              "      <td>32</td>\n",
              "      <td>6</td>\n",
              "      <td>Rain</td>\n",
              "    </tr>\n",
              "    <tr>\n",
              "      <th>1</th>\n",
              "      <td>02-01-2019</td>\n",
              "      <td>35</td>\n",
              "      <td>7</td>\n",
              "      <td>Sunny</td>\n",
              "    </tr>\n",
              "    <tr>\n",
              "      <th>2</th>\n",
              "      <td>03-01-2019</td>\n",
              "      <td>28</td>\n",
              "      <td>2</td>\n",
              "      <td>Snow</td>\n",
              "    </tr>\n",
              "  </tbody>\n",
              "</table>\n",
              "</div>"
            ],
            "text/plain": [
              "          day  temperature  windspeed  event\n",
              "0  01-01-2019           32          6   Rain\n",
              "1  02-01-2019           35          7  Sunny\n",
              "2  03-01-2019           28          2   Snow"
            ]
          },
          "execution_count": 7,
          "metadata": {},
          "output_type": "execute_result"
        }
      ],
      "source": [
        "#df.head()\n",
        "df.head(3)\n",
        "#from this we can find first 3 row of dataframe"
      ]
    },
    {
      "cell_type": "code",
      "execution_count": null,
      "metadata": {
        "jupyter": {
          "outputs_hidden": false
        },
        "id": "3RtjVpn209Tj",
        "outputId": "772347bc-e368-4cb7-8fcb-e8750f4a7d76"
      },
      "outputs": [
        {
          "data": {
            "text/html": [
              "<div>\n",
              "<style scoped>\n",
              "    .dataframe tbody tr th:only-of-type {\n",
              "        vertical-align: middle;\n",
              "    }\n",
              "\n",
              "    .dataframe tbody tr th {\n",
              "        vertical-align: top;\n",
              "    }\n",
              "\n",
              "    .dataframe thead th {\n",
              "        text-align: right;\n",
              "    }\n",
              "</style>\n",
              "<table border=\"1\" class=\"dataframe\">\n",
              "  <thead>\n",
              "    <tr style=\"text-align: right;\">\n",
              "      <th></th>\n",
              "      <th>day</th>\n",
              "      <th>temperature</th>\n",
              "      <th>windspeed</th>\n",
              "      <th>event</th>\n",
              "    </tr>\n",
              "  </thead>\n",
              "  <tbody>\n",
              "    <tr>\n",
              "      <th>0</th>\n",
              "      <td>1/1/2017</td>\n",
              "      <td>33</td>\n",
              "      <td>6</td>\n",
              "      <td>Rain</td>\n",
              "    </tr>\n",
              "    <tr>\n",
              "      <th>1</th>\n",
              "      <td>1/2/2017</td>\n",
              "      <td>35</td>\n",
              "      <td>7</td>\n",
              "      <td>Sunny</td>\n",
              "    </tr>\n",
              "    <tr>\n",
              "      <th>2</th>\n",
              "      <td>1/3/2017</td>\n",
              "      <td>28</td>\n",
              "      <td>2</td>\n",
              "      <td>Snow</td>\n",
              "    </tr>\n",
              "    <tr>\n",
              "      <th>3</th>\n",
              "      <td>1/4/2017</td>\n",
              "      <td>24</td>\n",
              "      <td>7</td>\n",
              "      <td>Snow</td>\n",
              "    </tr>\n",
              "    <tr>\n",
              "      <th>4</th>\n",
              "      <td>1/5/2017</td>\n",
              "      <td>32</td>\n",
              "      <td>4</td>\n",
              "      <td>Rain</td>\n",
              "    </tr>\n",
              "    <tr>\n",
              "      <th>5</th>\n",
              "      <td>1/6/2017</td>\n",
              "      <td>31</td>\n",
              "      <td>2</td>\n",
              "      <td>Sunny</td>\n",
              "    </tr>\n",
              "  </tbody>\n",
              "</table>\n",
              "</div>"
            ],
            "text/plain": [
              "        day  temperature  windspeed  event\n",
              "0  1/1/2017           33          6   Rain\n",
              "1  1/2/2017           35          7  Sunny\n",
              "2  1/3/2017           28          2   Snow\n",
              "3  1/4/2017           24          7   Snow\n",
              "4  1/5/2017           32          4   Rain\n",
              "5  1/6/2017           31          2  Sunny"
            ]
          },
          "execution_count": 2,
          "metadata": {},
          "output_type": "execute_result"
        }
      ],
      "source": [
        "df # df.tail(2)\n",
        "#show the dataframe"
      ]
    },
    {
      "cell_type": "code",
      "execution_count": null,
      "metadata": {
        "jupyter": {
          "outputs_hidden": false
        },
        "id": "D8xU1yzM09Tj",
        "outputId": "4da070bb-96c5-4a55-aeef-9481bf8f81d3"
      },
      "outputs": [
        {
          "data": {
            "text/html": [
              "<div>\n",
              "<style scoped>\n",
              "    .dataframe tbody tr th:only-of-type {\n",
              "        vertical-align: middle;\n",
              "    }\n",
              "\n",
              "    .dataframe tbody tr th {\n",
              "        vertical-align: top;\n",
              "    }\n",
              "\n",
              "    .dataframe thead th {\n",
              "        text-align: right;\n",
              "    }\n",
              "</style>\n",
              "<table border=\"1\" class=\"dataframe\">\n",
              "  <thead>\n",
              "    <tr style=\"text-align: right;\">\n",
              "      <th></th>\n",
              "      <th>day</th>\n",
              "      <th>temperature</th>\n",
              "      <th>windspeed</th>\n",
              "      <th>event</th>\n",
              "    </tr>\n",
              "  </thead>\n",
              "  <tbody>\n",
              "    <tr>\n",
              "      <th>0</th>\n",
              "      <td>1/1/2017</td>\n",
              "      <td>33</td>\n",
              "      <td>6</td>\n",
              "      <td>Rain</td>\n",
              "    </tr>\n",
              "    <tr>\n",
              "      <th>1</th>\n",
              "      <td>1/2/2017</td>\n",
              "      <td>35</td>\n",
              "      <td>7</td>\n",
              "      <td>Sunny</td>\n",
              "    </tr>\n",
              "    <tr>\n",
              "      <th>2</th>\n",
              "      <td>1/3/2017</td>\n",
              "      <td>28</td>\n",
              "      <td>2</td>\n",
              "      <td>Snow</td>\n",
              "    </tr>\n",
              "    <tr>\n",
              "      <th>3</th>\n",
              "      <td>1/4/2017</td>\n",
              "      <td>24</td>\n",
              "      <td>7</td>\n",
              "      <td>Snow</td>\n",
              "    </tr>\n",
              "  </tbody>\n",
              "</table>\n",
              "</div>"
            ],
            "text/plain": [
              "        day  temperature  windspeed  event\n",
              "0  1/1/2017           33          6   Rain\n",
              "1  1/2/2017           35          7  Sunny\n",
              "2  1/3/2017           28          2   Snow\n",
              "3  1/4/2017           24          7   Snow"
            ]
          },
          "execution_count": 5,
          "metadata": {},
          "output_type": "execute_result"
        }
      ],
      "source": [
        "df[:4]\n",
        "#here we do sliceing which has all rows and and 4 column"
      ]
    },
    {
      "cell_type": "markdown",
      "metadata": {
        "id": "4MhkXmic09Tk"
      },
      "source": [
        "## <font color='blue'>Columns</font>"
      ]
    },
    {
      "cell_type": "code",
      "execution_count": null,
      "metadata": {
        "jupyter": {
          "outputs_hidden": false
        },
        "id": "zCTOGMOA09Tk",
        "outputId": "534e0864-ce9c-4b74-fd36-5d9741049861"
      },
      "outputs": [
        {
          "data": {
            "text/plain": [
              "Index(['day', 'temperature', 'windspeed', 'event'], dtype='object')"
            ]
          },
          "execution_count": 6,
          "metadata": {},
          "output_type": "execute_result"
        }
      ],
      "source": [
        "df.columns\n",
        "#here we can see the all column names"
      ]
    },
    {
      "cell_type": "code",
      "execution_count": null,
      "metadata": {
        "jupyter": {
          "outputs_hidden": false
        },
        "id": "dgLNg3Qi09Tk",
        "outputId": "dceb5d29-5783-4720-f855-5aecb3801541"
      },
      "outputs": [
        {
          "data": {
            "text/plain": [
              "0    1/1/2017\n",
              "1    1/2/2017\n",
              "2    1/3/2017\n",
              "3    1/4/2017\n",
              "4    1/5/2017\n",
              "5    1/6/2017\n",
              "Name: day, dtype: object"
            ]
          },
          "execution_count": 7,
          "metadata": {},
          "output_type": "execute_result"
        }
      ],
      "source": [
        "df['day'] # or df.day\n",
        "#from this method we can see the days column all data"
      ]
    },
    {
      "cell_type": "code",
      "execution_count": null,
      "metadata": {
        "jupyter": {
          "outputs_hidden": false
        },
        "id": "Czw-iDO909Tk",
        "outputId": "8317a27f-02fd-42bd-fc27-e140c56b1b88"
      },
      "outputs": [
        {
          "data": {
            "text/plain": [
              "pandas.core.series.Series"
            ]
          },
          "execution_count": 11,
          "metadata": {},
          "output_type": "execute_result"
        }
      ],
      "source": [
        "type(df['day'])\n",
        "#from this we can find type of days column"
      ]
    },
    {
      "cell_type": "code",
      "execution_count": null,
      "metadata": {
        "jupyter": {
          "outputs_hidden": false
        },
        "id": "VSf9Z4KN09Tl",
        "outputId": "1a04cb19-29f0-4ca3-94cb-7e8b2dbd107f"
      },
      "outputs": [
        {
          "data": {
            "text/html": [
              "<div>\n",
              "<style scoped>\n",
              "    .dataframe tbody tr th:only-of-type {\n",
              "        vertical-align: middle;\n",
              "    }\n",
              "\n",
              "    .dataframe tbody tr th {\n",
              "        vertical-align: top;\n",
              "    }\n",
              "\n",
              "    .dataframe thead th {\n",
              "        text-align: right;\n",
              "    }\n",
              "</style>\n",
              "<table border=\"1\" class=\"dataframe\">\n",
              "  <thead>\n",
              "    <tr style=\"text-align: right;\">\n",
              "      <th></th>\n",
              "      <th>day</th>\n",
              "      <th>temperature</th>\n",
              "    </tr>\n",
              "  </thead>\n",
              "  <tbody>\n",
              "    <tr>\n",
              "      <th>0</th>\n",
              "      <td>01-01-2019</td>\n",
              "      <td>32</td>\n",
              "    </tr>\n",
              "    <tr>\n",
              "      <th>1</th>\n",
              "      <td>02-01-2019</td>\n",
              "      <td>35</td>\n",
              "    </tr>\n",
              "    <tr>\n",
              "      <th>2</th>\n",
              "      <td>03-01-2019</td>\n",
              "      <td>28</td>\n",
              "    </tr>\n",
              "    <tr>\n",
              "      <th>3</th>\n",
              "      <td>04-01-2019</td>\n",
              "      <td>24</td>\n",
              "    </tr>\n",
              "    <tr>\n",
              "      <th>4</th>\n",
              "      <td>05-01-2019</td>\n",
              "      <td>32</td>\n",
              "    </tr>\n",
              "    <tr>\n",
              "      <th>5</th>\n",
              "      <td>06-01-2019</td>\n",
              "      <td>31</td>\n",
              "    </tr>\n",
              "  </tbody>\n",
              "</table>\n",
              "</div>"
            ],
            "text/plain": [
              "          day  temperature\n",
              "0  01-01-2019           32\n",
              "1  02-01-2019           35\n",
              "2  03-01-2019           28\n",
              "3  04-01-2019           24\n",
              "4  05-01-2019           32\n",
              "5  06-01-2019           31"
            ]
          },
          "execution_count": 12,
          "metadata": {},
          "output_type": "execute_result"
        }
      ],
      "source": [
        "df[['day','temperature']]\n",
        "#from this we can find data of day and temperature"
      ]
    },
    {
      "cell_type": "markdown",
      "metadata": {
        "id": "3HgeFGeH09Tl"
      },
      "source": [
        "## <font color='blue'>Operations On DataFrame</font>"
      ]
    },
    {
      "cell_type": "code",
      "execution_count": null,
      "metadata": {
        "jupyter": {
          "outputs_hidden": false
        },
        "id": "1vzzoCHh09Tl",
        "outputId": "3d10a15b-735b-402f-a990-01fa480e9ca5"
      },
      "outputs": [
        {
          "data": {
            "text/plain": [
              "24"
            ]
          },
          "execution_count": 8,
          "metadata": {},
          "output_type": "execute_result"
        }
      ],
      "source": [
        "df['temperature'].min()\n",
        "#from this method we can find min temperature of all data"
      ]
    },
    {
      "cell_type": "code",
      "execution_count": null,
      "metadata": {
        "id": "E0j69SaO09Tl"
      },
      "outputs": [],
      "source": []
    },
    {
      "cell_type": "code",
      "execution_count": null,
      "metadata": {
        "jupyter": {
          "outputs_hidden": false
        },
        "id": "dK3Ci7O709Tl",
        "outputId": "5395cd45-9d96-4e30-dbe0-b44195eb96d8"
      },
      "outputs": [
        {
          "data": {
            "text/html": [
              "<div>\n",
              "<style scoped>\n",
              "    .dataframe tbody tr th:only-of-type {\n",
              "        vertical-align: middle;\n",
              "    }\n",
              "\n",
              "    .dataframe tbody tr th {\n",
              "        vertical-align: top;\n",
              "    }\n",
              "\n",
              "    .dataframe thead th {\n",
              "        text-align: right;\n",
              "    }\n",
              "</style>\n",
              "<table border=\"1\" class=\"dataframe\">\n",
              "  <thead>\n",
              "    <tr style=\"text-align: right;\">\n",
              "      <th></th>\n",
              "      <th>day</th>\n",
              "      <th>temperature</th>\n",
              "      <th>windspeed</th>\n",
              "      <th>event</th>\n",
              "    </tr>\n",
              "  </thead>\n",
              "  <tbody>\n",
              "    <tr>\n",
              "      <th>1</th>\n",
              "      <td>02-01-2019</td>\n",
              "      <td>35</td>\n",
              "      <td>7</td>\n",
              "      <td>Sunny</td>\n",
              "    </tr>\n",
              "  </tbody>\n",
              "</table>\n",
              "</div>"
            ],
            "text/plain": [
              "          day  temperature  windspeed  event\n",
              "1  02-01-2019           35          7  Sunny"
            ]
          },
          "execution_count": 14,
          "metadata": {},
          "output_type": "execute_result"
        }
      ],
      "source": [
        "df[df['temperature']>32]\n",
        "#from this we can find the temperature whose temp is >32"
      ]
    },
    {
      "cell_type": "code",
      "execution_count": null,
      "metadata": {
        "jupyter": {
          "outputs_hidden": false
        },
        "id": "9JImIUpn09Tm",
        "outputId": "86da9d6e-27ee-4543-a6aa-85aadcbbe775"
      },
      "outputs": [
        {
          "data": {
            "text/plain": [
              "1    02-01-2019\n",
              "Name: day, dtype: object"
            ]
          },
          "execution_count": 15,
          "metadata": {},
          "output_type": "execute_result"
        }
      ],
      "source": [
        "df['day'][df['temperature'] == df['temperature'].max()] # Kinda doing SQL in pandas\n",
        "#from this code we can find the days whose temp is max"
      ]
    },
    {
      "cell_type": "code",
      "execution_count": null,
      "metadata": {
        "jupyter": {
          "outputs_hidden": false
        },
        "id": "NklSbKUU09Tm",
        "outputId": "6e71a809-c3b3-4e35-90b2-f82972cc30e9"
      },
      "outputs": [
        {
          "data": {
            "text/html": [
              "<div>\n",
              "<style scoped>\n",
              "    .dataframe tbody tr th:only-of-type {\n",
              "        vertical-align: middle;\n",
              "    }\n",
              "\n",
              "    .dataframe tbody tr th {\n",
              "        vertical-align: top;\n",
              "    }\n",
              "\n",
              "    .dataframe thead th {\n",
              "        text-align: right;\n",
              "    }\n",
              "</style>\n",
              "<table border=\"1\" class=\"dataframe\">\n",
              "  <thead>\n",
              "    <tr style=\"text-align: right;\">\n",
              "      <th></th>\n",
              "      <th>day</th>\n",
              "      <th>temperature</th>\n",
              "      <th>windspeed</th>\n",
              "      <th>event</th>\n",
              "    </tr>\n",
              "  </thead>\n",
              "  <tbody>\n",
              "    <tr>\n",
              "      <th>1</th>\n",
              "      <td>02-01-2019</td>\n",
              "      <td>35</td>\n",
              "      <td>7</td>\n",
              "      <td>Sunny</td>\n",
              "    </tr>\n",
              "  </tbody>\n",
              "</table>\n",
              "</div>"
            ],
            "text/plain": [
              "          day  temperature  windspeed  event\n",
              "1  02-01-2019           35          7  Sunny"
            ]
          },
          "execution_count": 16,
          "metadata": {},
          "output_type": "execute_result"
        }
      ],
      "source": [
        "df[df['temperature'] == df['temperature'].max()] # Kinda doing SQL in temp is max\n",
        "#from this we can find the all data whose"
      ]
    },
    {
      "cell_type": "code",
      "execution_count": null,
      "metadata": {
        "jupyter": {
          "outputs_hidden": false
        },
        "id": "IRwJCTyS09Tm",
        "outputId": "4c617cf5-0649-4e38-8c4c-ab78dacf614e"
      },
      "outputs": [
        {
          "data": {
            "text/plain": [
              "3.8297084310253524"
            ]
          },
          "execution_count": 17,
          "metadata": {},
          "output_type": "execute_result"
        }
      ],
      "source": [
        "df['temperature'].std() #Why we calculate std deviation?\n",
        "#Standard deviation is important because it helps in understanding the measurements when the data is distributed"
      ]
    },
    {
      "cell_type": "code",
      "execution_count": null,
      "metadata": {
        "jupyter": {
          "outputs_hidden": false
        },
        "id": "MMXPyVYM09Tm",
        "outputId": "b2fce7da-95bf-4137-bda8-00a77872d41b"
      },
      "outputs": [
        {
          "data": {
            "text/html": [
              "<div>\n",
              "<style scoped>\n",
              "    .dataframe tbody tr th:only-of-type {\n",
              "        vertical-align: middle;\n",
              "    }\n",
              "\n",
              "    .dataframe tbody tr th {\n",
              "        vertical-align: top;\n",
              "    }\n",
              "\n",
              "    .dataframe thead th {\n",
              "        text-align: right;\n",
              "    }\n",
              "</style>\n",
              "<table border=\"1\" class=\"dataframe\">\n",
              "  <thead>\n",
              "    <tr style=\"text-align: right;\">\n",
              "      <th></th>\n",
              "      <th>day</th>\n",
              "      <th>temperature</th>\n",
              "      <th>windspeed</th>\n",
              "      <th>event</th>\n",
              "    </tr>\n",
              "  </thead>\n",
              "  <tbody>\n",
              "    <tr>\n",
              "      <th>0</th>\n",
              "      <td>1/1/2017</td>\n",
              "      <td>33</td>\n",
              "      <td>6</td>\n",
              "      <td>Rain</td>\n",
              "    </tr>\n",
              "    <tr>\n",
              "      <th>1</th>\n",
              "      <td>1/2/2017</td>\n",
              "      <td>35</td>\n",
              "      <td>7</td>\n",
              "      <td>Sunny</td>\n",
              "    </tr>\n",
              "    <tr>\n",
              "      <th>2</th>\n",
              "      <td>1/3/2017</td>\n",
              "      <td>28</td>\n",
              "      <td>2</td>\n",
              "      <td>Snow</td>\n",
              "    </tr>\n",
              "    <tr>\n",
              "      <th>3</th>\n",
              "      <td>1/4/2017</td>\n",
              "      <td>24</td>\n",
              "      <td>7</td>\n",
              "      <td>Snow</td>\n",
              "    </tr>\n",
              "    <tr>\n",
              "      <th>4</th>\n",
              "      <td>1/5/2017</td>\n",
              "      <td>32</td>\n",
              "      <td>4</td>\n",
              "      <td>Rain</td>\n",
              "    </tr>\n",
              "    <tr>\n",
              "      <th>5</th>\n",
              "      <td>1/6/2017</td>\n",
              "      <td>31</td>\n",
              "      <td>2</td>\n",
              "      <td>Sunny</td>\n",
              "    </tr>\n",
              "  </tbody>\n",
              "</table>\n",
              "</div>"
            ],
            "text/plain": [
              "        day  temperature  windspeed  event\n",
              "0  1/1/2017           33          6   Rain\n",
              "1  1/2/2017           35          7  Sunny\n",
              "2  1/3/2017           28          2   Snow\n",
              "3  1/4/2017           24          7   Snow\n",
              "4  1/5/2017           32          4   Rain\n",
              "5  1/6/2017           31          2  Sunny"
            ]
          },
          "execution_count": 9,
          "metadata": {},
          "output_type": "execute_result"
        }
      ],
      "source": [
        "# df.describe()\n",
        "df\n",
        "#show the dataframe"
      ]
    },
    {
      "cell_type": "markdown",
      "metadata": {
        "id": "jdsE1JVz09Tm"
      },
      "source": [
        "**Google pandas series operations to find out list of all operations**\n",
        "http://pandas.pydata.org/pandas-docs/stable/generated/pandas.Series.html"
      ]
    },
    {
      "cell_type": "markdown",
      "metadata": {
        "id": "DZs7DTdG09Tn"
      },
      "source": [
        "## <font color='blue'>set_index</font>"
      ]
    },
    {
      "cell_type": "code",
      "execution_count": null,
      "metadata": {
        "jupyter": {
          "outputs_hidden": false
        },
        "id": "oZrAKkJj09Tn",
        "outputId": "e330d2f1-a747-4a6a-d971-0dfb5bf40caf"
      },
      "outputs": [
        {
          "data": {
            "text/html": [
              "<div>\n",
              "<style scoped>\n",
              "    .dataframe tbody tr th:only-of-type {\n",
              "        vertical-align: middle;\n",
              "    }\n",
              "\n",
              "    .dataframe tbody tr th {\n",
              "        vertical-align: top;\n",
              "    }\n",
              "\n",
              "    .dataframe thead th {\n",
              "        text-align: right;\n",
              "    }\n",
              "</style>\n",
              "<table border=\"1\" class=\"dataframe\">\n",
              "  <thead>\n",
              "    <tr style=\"text-align: right;\">\n",
              "      <th></th>\n",
              "      <th>temperature</th>\n",
              "      <th>windspeed</th>\n",
              "      <th>event</th>\n",
              "    </tr>\n",
              "    <tr>\n",
              "      <th>day</th>\n",
              "      <th></th>\n",
              "      <th></th>\n",
              "      <th></th>\n",
              "    </tr>\n",
              "  </thead>\n",
              "  <tbody>\n",
              "    <tr>\n",
              "      <th>01-01-2019</th>\n",
              "      <td>32</td>\n",
              "      <td>6</td>\n",
              "      <td>Rain</td>\n",
              "    </tr>\n",
              "    <tr>\n",
              "      <th>02-01-2019</th>\n",
              "      <td>35</td>\n",
              "      <td>7</td>\n",
              "      <td>Sunny</td>\n",
              "    </tr>\n",
              "    <tr>\n",
              "      <th>03-01-2019</th>\n",
              "      <td>28</td>\n",
              "      <td>2</td>\n",
              "      <td>Snow</td>\n",
              "    </tr>\n",
              "    <tr>\n",
              "      <th>04-01-2019</th>\n",
              "      <td>24</td>\n",
              "      <td>7</td>\n",
              "      <td>Snow</td>\n",
              "    </tr>\n",
              "    <tr>\n",
              "      <th>05-01-2019</th>\n",
              "      <td>32</td>\n",
              "      <td>4</td>\n",
              "      <td>Rain</td>\n",
              "    </tr>\n",
              "    <tr>\n",
              "      <th>06-01-2019</th>\n",
              "      <td>31</td>\n",
              "      <td>2</td>\n",
              "      <td>Sunny</td>\n",
              "    </tr>\n",
              "  </tbody>\n",
              "</table>\n",
              "</div>"
            ],
            "text/plain": [
              "            temperature  windspeed  event\n",
              "day                                      \n",
              "01-01-2019           32          6   Rain\n",
              "02-01-2019           35          7  Sunny\n",
              "03-01-2019           28          2   Snow\n",
              "04-01-2019           24          7   Snow\n",
              "05-01-2019           32          4   Rain\n",
              "06-01-2019           31          2  Sunny"
            ]
          },
          "execution_count": 19,
          "metadata": {},
          "output_type": "execute_result"
        }
      ],
      "source": [
        "df.set_index('day')\n",
        "#we set the day as a index"
      ]
    },
    {
      "cell_type": "code",
      "execution_count": null,
      "metadata": {
        "tags": [],
        "id": "A9NMlcLT09Tn"
      },
      "outputs": [],
      "source": [
        "#from this we can set the days and event as index and change in real dataframe\n",
        "df.set_index(['day','event'], inplace=True)"
      ]
    },
    {
      "cell_type": "code",
      "execution_count": null,
      "metadata": {
        "jupyter": {
          "outputs_hidden": false
        },
        "id": "VrVhnmkI09Tn",
        "outputId": "6d1351b5-19bd-4db4-e23a-53cf59d02ed3"
      },
      "outputs": [
        {
          "data": {
            "text/html": [
              "<div>\n",
              "<style scoped>\n",
              "    .dataframe tbody tr th:only-of-type {\n",
              "        vertical-align: middle;\n",
              "    }\n",
              "\n",
              "    .dataframe tbody tr th {\n",
              "        vertical-align: top;\n",
              "    }\n",
              "\n",
              "    .dataframe thead th {\n",
              "        text-align: right;\n",
              "    }\n",
              "</style>\n",
              "<table border=\"1\" class=\"dataframe\">\n",
              "  <thead>\n",
              "    <tr style=\"text-align: right;\">\n",
              "      <th></th>\n",
              "      <th></th>\n",
              "      <th>temperature</th>\n",
              "      <th>windspeed</th>\n",
              "    </tr>\n",
              "    <tr>\n",
              "      <th>day</th>\n",
              "      <th>event</th>\n",
              "      <th></th>\n",
              "      <th></th>\n",
              "    </tr>\n",
              "  </thead>\n",
              "  <tbody>\n",
              "    <tr>\n",
              "      <th>01-01-2019</th>\n",
              "      <th>Rain</th>\n",
              "      <td>32</td>\n",
              "      <td>6</td>\n",
              "    </tr>\n",
              "    <tr>\n",
              "      <th>02-01-2019</th>\n",
              "      <th>Sunny</th>\n",
              "      <td>35</td>\n",
              "      <td>7</td>\n",
              "    </tr>\n",
              "    <tr>\n",
              "      <th>03-01-2019</th>\n",
              "      <th>Snow</th>\n",
              "      <td>28</td>\n",
              "      <td>2</td>\n",
              "    </tr>\n",
              "    <tr>\n",
              "      <th>04-01-2019</th>\n",
              "      <th>Snow</th>\n",
              "      <td>24</td>\n",
              "      <td>7</td>\n",
              "    </tr>\n",
              "    <tr>\n",
              "      <th>05-01-2019</th>\n",
              "      <th>Rain</th>\n",
              "      <td>32</td>\n",
              "      <td>4</td>\n",
              "    </tr>\n",
              "    <tr>\n",
              "      <th>06-01-2019</th>\n",
              "      <th>Sunny</th>\n",
              "      <td>31</td>\n",
              "      <td>2</td>\n",
              "    </tr>\n",
              "  </tbody>\n",
              "</table>\n",
              "</div>"
            ],
            "text/plain": [
              "                  temperature  windspeed\n",
              "day        event                        \n",
              "01-01-2019 Rain            32          6\n",
              "02-01-2019 Sunny           35          7\n",
              "03-01-2019 Snow            28          2\n",
              "04-01-2019 Snow            24          7\n",
              "05-01-2019 Rain            32          4\n",
              "06-01-2019 Sunny           31          2"
            ]
          },
          "execution_count": 21,
          "metadata": {},
          "output_type": "execute_result"
        }
      ],
      "source": [
        "df"
      ]
    },
    {
      "cell_type": "code",
      "execution_count": null,
      "metadata": {
        "jupyter": {
          "outputs_hidden": false
        },
        "id": "r2yuY29E09Tn",
        "outputId": "0c312b27-0c32-443b-bf2f-65dcb652d0f4"
      },
      "outputs": [
        {
          "data": {
            "text/plain": [
              "MultiIndex([('01-01-2019',  'Rain'),\n",
              "            ('02-01-2019', 'Sunny'),\n",
              "            ('03-01-2019',  'Snow'),\n",
              "            ('04-01-2019',  'Snow'),\n",
              "            ('05-01-2019',  'Rain'),\n",
              "            ('06-01-2019', 'Sunny')],\n",
              "           names=['day', 'event'])"
            ]
          },
          "execution_count": 22,
          "metadata": {},
          "output_type": "execute_result"
        }
      ],
      "source": [
        "#here we can print the index data\n",
        "df.index"
      ]
    },
    {
      "cell_type": "code",
      "execution_count": null,
      "metadata": {
        "jupyter": {
          "outputs_hidden": false
        },
        "id": "4RhJe8f009Tn",
        "outputId": "cda3e824-ba4d-4041-e436-cd7a1ff160c4"
      },
      "outputs": [
        {
          "data": {
            "text/plain": [
              "temperature    35\n",
              "windspeed       7\n",
              "Name: (02-01-2019, Sunny), dtype: int64"
            ]
          },
          "execution_count": 23,
          "metadata": {},
          "output_type": "execute_result"
        }
      ],
      "source": [
        "df.loc['02-01-2019','Sunny']\n",
        "#we can find all data from the give index"
      ]
    },
    {
      "cell_type": "code",
      "execution_count": null,
      "metadata": {
        "jupyter": {
          "outputs_hidden": false
        },
        "id": "SI4_G5nw09To",
        "outputId": "d59986df-d731-4a75-f374-478c9f11d700"
      },
      "outputs": [
        {
          "data": {
            "text/html": [
              "<div>\n",
              "<style scoped>\n",
              "    .dataframe tbody tr th:only-of-type {\n",
              "        vertical-align: middle;\n",
              "    }\n",
              "\n",
              "    .dataframe tbody tr th {\n",
              "        vertical-align: top;\n",
              "    }\n",
              "\n",
              "    .dataframe thead th {\n",
              "        text-align: right;\n",
              "    }\n",
              "</style>\n",
              "<table border=\"1\" class=\"dataframe\">\n",
              "  <thead>\n",
              "    <tr style=\"text-align: right;\">\n",
              "      <th></th>\n",
              "      <th>day</th>\n",
              "      <th>event</th>\n",
              "      <th>temperature</th>\n",
              "      <th>windspeed</th>\n",
              "    </tr>\n",
              "  </thead>\n",
              "  <tbody>\n",
              "    <tr>\n",
              "      <th>0</th>\n",
              "      <td>01-01-2019</td>\n",
              "      <td>Rain</td>\n",
              "      <td>32</td>\n",
              "      <td>6</td>\n",
              "    </tr>\n",
              "    <tr>\n",
              "      <th>1</th>\n",
              "      <td>02-01-2019</td>\n",
              "      <td>Sunny</td>\n",
              "      <td>35</td>\n",
              "      <td>7</td>\n",
              "    </tr>\n",
              "    <tr>\n",
              "      <th>2</th>\n",
              "      <td>03-01-2019</td>\n",
              "      <td>Snow</td>\n",
              "      <td>28</td>\n",
              "      <td>2</td>\n",
              "    </tr>\n",
              "    <tr>\n",
              "      <th>3</th>\n",
              "      <td>04-01-2019</td>\n",
              "      <td>Snow</td>\n",
              "      <td>24</td>\n",
              "      <td>7</td>\n",
              "    </tr>\n",
              "    <tr>\n",
              "      <th>4</th>\n",
              "      <td>05-01-2019</td>\n",
              "      <td>Rain</td>\n",
              "      <td>32</td>\n",
              "      <td>4</td>\n",
              "    </tr>\n",
              "  </tbody>\n",
              "</table>\n",
              "</div>"
            ],
            "text/plain": [
              "          day  event  temperature  windspeed\n",
              "0  01-01-2019   Rain           32          6\n",
              "1  02-01-2019  Sunny           35          7\n",
              "2  03-01-2019   Snow           28          2\n",
              "3  04-01-2019   Snow           24          7\n",
              "4  05-01-2019   Rain           32          4"
            ]
          },
          "execution_count": 24,
          "metadata": {},
          "output_type": "execute_result"
        }
      ],
      "source": [
        "df.reset_index(inplace=True)\n",
        "df.head()\n",
        "#from that reset the index and than we show the first 5 data from dataframe"
      ]
    },
    {
      "cell_type": "code",
      "execution_count": null,
      "metadata": {
        "jupyter": {
          "outputs_hidden": false
        },
        "id": "P6zy-_9d09To",
        "outputId": "2c3a370f-c3d3-4faa-86e5-07472c112381"
      },
      "outputs": [
        {
          "data": {
            "text/html": [
              "<div>\n",
              "<style scoped>\n",
              "    .dataframe tbody tr th:only-of-type {\n",
              "        vertical-align: middle;\n",
              "    }\n",
              "\n",
              "    .dataframe tbody tr th {\n",
              "        vertical-align: top;\n",
              "    }\n",
              "\n",
              "    .dataframe thead th {\n",
              "        text-align: right;\n",
              "    }\n",
              "</style>\n",
              "<table border=\"1\" class=\"dataframe\">\n",
              "  <thead>\n",
              "    <tr style=\"text-align: right;\">\n",
              "      <th></th>\n",
              "      <th>day</th>\n",
              "      <th>temperature</th>\n",
              "      <th>windspeed</th>\n",
              "    </tr>\n",
              "    <tr>\n",
              "      <th>event</th>\n",
              "      <th></th>\n",
              "      <th></th>\n",
              "      <th></th>\n",
              "    </tr>\n",
              "  </thead>\n",
              "  <tbody>\n",
              "    <tr>\n",
              "      <th>Rain</th>\n",
              "      <td>01-01-2019</td>\n",
              "      <td>32</td>\n",
              "      <td>6</td>\n",
              "    </tr>\n",
              "    <tr>\n",
              "      <th>Sunny</th>\n",
              "      <td>02-01-2019</td>\n",
              "      <td>35</td>\n",
              "      <td>7</td>\n",
              "    </tr>\n",
              "    <tr>\n",
              "      <th>Snow</th>\n",
              "      <td>03-01-2019</td>\n",
              "      <td>28</td>\n",
              "      <td>2</td>\n",
              "    </tr>\n",
              "    <tr>\n",
              "      <th>Snow</th>\n",
              "      <td>04-01-2019</td>\n",
              "      <td>24</td>\n",
              "      <td>7</td>\n",
              "    </tr>\n",
              "    <tr>\n",
              "      <th>Rain</th>\n",
              "      <td>05-01-2019</td>\n",
              "      <td>32</td>\n",
              "      <td>4</td>\n",
              "    </tr>\n",
              "    <tr>\n",
              "      <th>Sunny</th>\n",
              "      <td>06-01-2019</td>\n",
              "      <td>31</td>\n",
              "      <td>2</td>\n",
              "    </tr>\n",
              "  </tbody>\n",
              "</table>\n",
              "</div>"
            ],
            "text/plain": [
              "              day  temperature  windspeed\n",
              "event                                    \n",
              "Rain   01-01-2019           32          6\n",
              "Sunny  02-01-2019           35          7\n",
              "Snow   03-01-2019           28          2\n",
              "Snow   04-01-2019           24          7\n",
              "Rain   05-01-2019           32          4\n",
              "Sunny  06-01-2019           31          2"
            ]
          },
          "execution_count": 25,
          "metadata": {},
          "output_type": "execute_result"
        }
      ],
      "source": [
        "df.set_index('event',inplace=True) # this is kind of building a hash map using event as a key\n",
        "#now we set the event as a index of dataframe\n",
        "df"
      ]
    },
    {
      "cell_type": "code",
      "execution_count": null,
      "metadata": {
        "jupyter": {
          "outputs_hidden": false
        },
        "id": "g1xVuPN209To",
        "outputId": "62349471-4d9f-4600-ee8d-7baf56cbede0"
      },
      "outputs": [
        {
          "data": {
            "text/html": [
              "<div>\n",
              "<style scoped>\n",
              "    .dataframe tbody tr th:only-of-type {\n",
              "        vertical-align: middle;\n",
              "    }\n",
              "\n",
              "    .dataframe tbody tr th {\n",
              "        vertical-align: top;\n",
              "    }\n",
              "\n",
              "    .dataframe thead th {\n",
              "        text-align: right;\n",
              "    }\n",
              "</style>\n",
              "<table border=\"1\" class=\"dataframe\">\n",
              "  <thead>\n",
              "    <tr style=\"text-align: right;\">\n",
              "      <th></th>\n",
              "      <th>day</th>\n",
              "      <th>temperature</th>\n",
              "      <th>windspeed</th>\n",
              "    </tr>\n",
              "    <tr>\n",
              "      <th>event</th>\n",
              "      <th></th>\n",
              "      <th></th>\n",
              "      <th></th>\n",
              "    </tr>\n",
              "  </thead>\n",
              "  <tbody>\n",
              "    <tr>\n",
              "      <th>Snow</th>\n",
              "      <td>03-01-2019</td>\n",
              "      <td>28</td>\n",
              "      <td>2</td>\n",
              "    </tr>\n",
              "    <tr>\n",
              "      <th>Snow</th>\n",
              "      <td>04-01-2019</td>\n",
              "      <td>24</td>\n",
              "      <td>7</td>\n",
              "    </tr>\n",
              "  </tbody>\n",
              "</table>\n",
              "</div>"
            ],
            "text/plain": [
              "              day  temperature  windspeed\n",
              "event                                    \n",
              "Snow   03-01-2019           28          2\n",
              "Snow   04-01-2019           24          7"
            ]
          },
          "execution_count": 26,
          "metadata": {},
          "output_type": "execute_result"
        }
      ],
      "source": [
        "df.loc['Snow']\n",
        "#we find data whose index is snow"
      ]
    },
    {
      "cell_type": "code",
      "execution_count": null,
      "metadata": {
        "id": "12gD1ktG09To"
      },
      "outputs": [],
      "source": []
    }
  ],
  "metadata": {
    "anaconda-cloud": {},
    "kernelspec": {
      "display_name": "Python 3 (ipykernel)",
      "language": "python",
      "name": "python3"
    },
    "language_info": {
      "codemirror_mode": {
        "name": "ipython",
        "version": 3
      },
      "file_extension": ".py",
      "mimetype": "text/x-python",
      "name": "python",
      "nbconvert_exporter": "python",
      "pygments_lexer": "ipython3",
      "version": "3.10.9"
    },
    "colab": {
      "provenance": [],
      "include_colab_link": true
    }
  },
  "nbformat": 4,
  "nbformat_minor": 0
}