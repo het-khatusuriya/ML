{
  "cells": [
    {
      "cell_type": "markdown",
      "metadata": {
        "id": "view-in-github",
        "colab_type": "text"
      },
      "source": [
        "<a href=\"https://colab.research.google.com/github/het-khatusuriya/ML/blob/main/d22ce166_read__and_write_csv.ipynb\" target=\"_parent\"><img src=\"https://colab.research.google.com/assets/colab-badge.svg\" alt=\"Open In Colab\"/></a>"
      ]
    },
    {
      "cell_type": "markdown",
      "metadata": {
        "id": "-_o7YXMAu04p"
      },
      "source": [
        "## <font color=\"purple\"><h4 align=\"center\">Read/Write CSV and Excel Files in Pandas</font>"
      ]
    },
    {
      "cell_type": "markdown",
      "metadata": {
        "id": "zKo3xD3eu04u"
      },
      "source": [
        "### <font color=\"blue\">Read CSV</color>"
      ]
    },
    {
      "cell_type": "code",
      "execution_count": null,
      "metadata": {
        "scrolled": true,
        "id": "5-dLpAsFu04v",
        "outputId": "c724e5c5-29ce-4bd4-a1e7-5b359d3bcee6"
      },
      "outputs": [
        {
          "data": {
            "text/html": [
              "<div>\n",
              "<style scoped>\n",
              "    .dataframe tbody tr th:only-of-type {\n",
              "        vertical-align: middle;\n",
              "    }\n",
              "\n",
              "    .dataframe tbody tr th {\n",
              "        vertical-align: top;\n",
              "    }\n",
              "\n",
              "    .dataframe thead th {\n",
              "        text-align: right;\n",
              "    }\n",
              "</style>\n",
              "<table border=\"1\" class=\"dataframe\">\n",
              "  <thead>\n",
              "    <tr style=\"text-align: right;\">\n",
              "      <th></th>\n",
              "      <th>tickers</th>\n",
              "      <th>eps</th>\n",
              "      <th>revenue</th>\n",
              "      <th>price</th>\n",
              "      <th>people</th>\n",
              "    </tr>\n",
              "  </thead>\n",
              "  <tbody>\n",
              "    <tr>\n",
              "      <th>0</th>\n",
              "      <td>GOOGL</td>\n",
              "      <td>27.82</td>\n",
              "      <td>87</td>\n",
              "      <td>845</td>\n",
              "      <td>larry page</td>\n",
              "    </tr>\n",
              "    <tr>\n",
              "      <th>1</th>\n",
              "      <td>WMT</td>\n",
              "      <td>4.61</td>\n",
              "      <td>484</td>\n",
              "      <td>65</td>\n",
              "      <td>n.a.</td>\n",
              "    </tr>\n",
              "    <tr>\n",
              "      <th>2</th>\n",
              "      <td>MSFT</td>\n",
              "      <td>-1</td>\n",
              "      <td>85</td>\n",
              "      <td>64</td>\n",
              "      <td>bill gates</td>\n",
              "    </tr>\n",
              "    <tr>\n",
              "      <th>3</th>\n",
              "      <td>RIL</td>\n",
              "      <td>not available</td>\n",
              "      <td>50</td>\n",
              "      <td>1023</td>\n",
              "      <td>mukesh ambani</td>\n",
              "    </tr>\n",
              "    <tr>\n",
              "      <th>4</th>\n",
              "      <td>TATA</td>\n",
              "      <td>5.6</td>\n",
              "      <td>-1</td>\n",
              "      <td>n.a.</td>\n",
              "      <td>ratan tata</td>\n",
              "    </tr>\n",
              "  </tbody>\n",
              "</table>\n",
              "</div>"
            ],
            "text/plain": [
              "  tickers            eps  revenue price         people\n",
              "0   GOOGL          27.82       87   845     larry page\n",
              "1     WMT           4.61      484    65           n.a.\n",
              "2    MSFT             -1       85    64     bill gates\n",
              "3    RIL   not available       50  1023  mukesh ambani\n",
              "4    TATA            5.6       -1  n.a.     ratan tata"
            ]
          },
          "execution_count": 1,
          "metadata": {},
          "output_type": "execute_result"
        }
      ],
      "source": [
        "import pandas as pd\n",
        "#here we read the dataframe\n",
        "df = pd.read_csv(\"stock_data.csv\")\n",
        "df"
      ]
    },
    {
      "cell_type": "code",
      "execution_count": null,
      "metadata": {
        "id": "EDkzbxW-u04x",
        "outputId": "c0a9f5e3-707a-4d82-af63-d0f679100190"
      },
      "outputs": [
        {
          "data": {
            "text/html": [
              "<div>\n",
              "<style scoped>\n",
              "    .dataframe tbody tr th:only-of-type {\n",
              "        vertical-align: middle;\n",
              "    }\n",
              "\n",
              "    .dataframe tbody tr th {\n",
              "        vertical-align: top;\n",
              "    }\n",
              "\n",
              "    .dataframe thead th {\n",
              "        text-align: right;\n",
              "    }\n",
              "</style>\n",
              "<table border=\"1\" class=\"dataframe\">\n",
              "  <thead>\n",
              "    <tr style=\"text-align: right;\">\n",
              "      <th></th>\n",
              "      <th>GOOGL</th>\n",
              "      <th>27.82</th>\n",
              "      <th>87</th>\n",
              "      <th>845</th>\n",
              "      <th>larry page</th>\n",
              "    </tr>\n",
              "  </thead>\n",
              "  <tbody>\n",
              "    <tr>\n",
              "      <th>0</th>\n",
              "      <td>WMT</td>\n",
              "      <td>4.61</td>\n",
              "      <td>484</td>\n",
              "      <td>65</td>\n",
              "      <td>n.a.</td>\n",
              "    </tr>\n",
              "    <tr>\n",
              "      <th>1</th>\n",
              "      <td>MSFT</td>\n",
              "      <td>-1</td>\n",
              "      <td>85</td>\n",
              "      <td>64</td>\n",
              "      <td>bill gates</td>\n",
              "    </tr>\n",
              "    <tr>\n",
              "      <th>2</th>\n",
              "      <td>RIL</td>\n",
              "      <td>not available</td>\n",
              "      <td>50</td>\n",
              "      <td>1023</td>\n",
              "      <td>mukesh ambani</td>\n",
              "    </tr>\n",
              "    <tr>\n",
              "      <th>3</th>\n",
              "      <td>TATA</td>\n",
              "      <td>5.6</td>\n",
              "      <td>-1</td>\n",
              "      <td>n.a.</td>\n",
              "      <td>ratan tata</td>\n",
              "    </tr>\n",
              "  </tbody>\n",
              "</table>\n",
              "</div>"
            ],
            "text/plain": [
              "  GOOGL          27.82   87   845     larry page\n",
              "0   WMT           4.61  484    65           n.a.\n",
              "1  MSFT             -1   85    64     bill gates\n",
              "2  RIL   not available   50  1023  mukesh ambani\n",
              "3  TATA            5.6   -1  n.a.     ratan tata"
            ]
          },
          "execution_count": 2,
          "metadata": {},
          "output_type": "execute_result"
        }
      ],
      "source": [
        "df = pd.read_csv(\"stock_data.csv\", skiprows=1)\n",
        "#here we read the dataframe and skiprows are 1\n",
        "df"
      ]
    },
    {
      "cell_type": "code",
      "execution_count": null,
      "metadata": {
        "id": "zdQFyv8Ku04x",
        "outputId": "a2d559af-69e3-4172-dc28-8b5f97d8b164"
      },
      "outputs": [
        {
          "data": {
            "text/html": [
              "<div>\n",
              "<style scoped>\n",
              "    .dataframe tbody tr th:only-of-type {\n",
              "        vertical-align: middle;\n",
              "    }\n",
              "\n",
              "    .dataframe tbody tr th {\n",
              "        vertical-align: top;\n",
              "    }\n",
              "\n",
              "    .dataframe thead th {\n",
              "        text-align: right;\n",
              "    }\n",
              "</style>\n",
              "<table border=\"1\" class=\"dataframe\">\n",
              "  <thead>\n",
              "    <tr style=\"text-align: right;\">\n",
              "      <th></th>\n",
              "      <th>GOOGL</th>\n",
              "      <th>27.82</th>\n",
              "      <th>87</th>\n",
              "      <th>845</th>\n",
              "      <th>larry page</th>\n",
              "    </tr>\n",
              "  </thead>\n",
              "  <tbody>\n",
              "    <tr>\n",
              "      <th>0</th>\n",
              "      <td>WMT</td>\n",
              "      <td>4.61</td>\n",
              "      <td>484</td>\n",
              "      <td>65</td>\n",
              "      <td>n.a.</td>\n",
              "    </tr>\n",
              "    <tr>\n",
              "      <th>1</th>\n",
              "      <td>MSFT</td>\n",
              "      <td>-1</td>\n",
              "      <td>85</td>\n",
              "      <td>64</td>\n",
              "      <td>bill gates</td>\n",
              "    </tr>\n",
              "    <tr>\n",
              "      <th>2</th>\n",
              "      <td>RIL</td>\n",
              "      <td>not available</td>\n",
              "      <td>50</td>\n",
              "      <td>1023</td>\n",
              "      <td>mukesh ambani</td>\n",
              "    </tr>\n",
              "    <tr>\n",
              "      <th>3</th>\n",
              "      <td>TATA</td>\n",
              "      <td>5.6</td>\n",
              "      <td>-1</td>\n",
              "      <td>n.a.</td>\n",
              "      <td>ratan tata</td>\n",
              "    </tr>\n",
              "  </tbody>\n",
              "</table>\n",
              "</div>"
            ],
            "text/plain": [
              "  GOOGL          27.82   87   845     larry page\n",
              "0   WMT           4.61  484    65           n.a.\n",
              "1  MSFT             -1   85    64     bill gates\n",
              "2  RIL   not available   50  1023  mukesh ambani\n",
              "3  TATA            5.6   -1  n.a.     ratan tata"
            ]
          },
          "execution_count": 3,
          "metadata": {},
          "output_type": "execute_result"
        }
      ],
      "source": [
        "df = pd.read_csv(\"stock_data.csv\", header=1) # skiprows and header are kind of same\n",
        "#here we read the dataframe and header are 1\n",
        "\n",
        "df"
      ]
    },
    {
      "cell_type": "code",
      "execution_count": null,
      "metadata": {
        "id": "AJCTy73Yu04y",
        "outputId": "46d3393d-c62e-4c5e-e6b9-eae4cf1b23c0"
      },
      "outputs": [
        {
          "data": {
            "text/html": [
              "<div>\n",
              "<style scoped>\n",
              "    .dataframe tbody tr th:only-of-type {\n",
              "        vertical-align: middle;\n",
              "    }\n",
              "\n",
              "    .dataframe tbody tr th {\n",
              "        vertical-align: top;\n",
              "    }\n",
              "\n",
              "    .dataframe thead th {\n",
              "        text-align: right;\n",
              "    }\n",
              "</style>\n",
              "<table border=\"1\" class=\"dataframe\">\n",
              "  <thead>\n",
              "    <tr style=\"text-align: right;\">\n",
              "      <th></th>\n",
              "      <th>ticker</th>\n",
              "      <th>eps</th>\n",
              "      <th>revenue</th>\n",
              "      <th>people</th>\n",
              "    </tr>\n",
              "  </thead>\n",
              "  <tbody>\n",
              "    <tr>\n",
              "      <th>tickers</th>\n",
              "      <td>eps</td>\n",
              "      <td>revenue</td>\n",
              "      <td>price</td>\n",
              "      <td>people</td>\n",
              "    </tr>\n",
              "    <tr>\n",
              "      <th>GOOGL</th>\n",
              "      <td>27.82</td>\n",
              "      <td>87</td>\n",
              "      <td>845</td>\n",
              "      <td>larry page</td>\n",
              "    </tr>\n",
              "    <tr>\n",
              "      <th>WMT</th>\n",
              "      <td>4.61</td>\n",
              "      <td>484</td>\n",
              "      <td>65</td>\n",
              "      <td>n.a.</td>\n",
              "    </tr>\n",
              "    <tr>\n",
              "      <th>MSFT</th>\n",
              "      <td>-1</td>\n",
              "      <td>85</td>\n",
              "      <td>64</td>\n",
              "      <td>bill gates</td>\n",
              "    </tr>\n",
              "    <tr>\n",
              "      <th>RIL</th>\n",
              "      <td>not available</td>\n",
              "      <td>50</td>\n",
              "      <td>1023</td>\n",
              "      <td>mukesh ambani</td>\n",
              "    </tr>\n",
              "    <tr>\n",
              "      <th>TATA</th>\n",
              "      <td>5.6</td>\n",
              "      <td>-1</td>\n",
              "      <td>n.a.</td>\n",
              "      <td>ratan tata</td>\n",
              "    </tr>\n",
              "  </tbody>\n",
              "</table>\n",
              "</div>"
            ],
            "text/plain": [
              "                ticker      eps revenue         people\n",
              "tickers            eps  revenue   price         people\n",
              "GOOGL            27.82       87     845     larry page\n",
              "WMT               4.61      484      65           n.a.\n",
              "MSFT                -1       85      64     bill gates\n",
              "RIL      not available       50    1023  mukesh ambani\n",
              "TATA               5.6       -1    n.a.     ratan tata"
            ]
          },
          "execution_count": 4,
          "metadata": {},
          "output_type": "execute_result"
        }
      ],
      "source": [
        "df = pd.read_csv(\"stock_data.csv\", header=None, names = [\"ticker\",\"eps\",\"revenue\",\"people\"])\n",
        "#here we read the dataframe and then we set the name of column as \"ticker\",\"eps\",\"revenue\",\"people\"\n",
        "dffu"
      ]
    },
    {
      "cell_type": "code",
      "execution_count": null,
      "metadata": {
        "id": "hI9GTTWVu04z",
        "outputId": "fd20c3b6-e2be-4dd6-f19d-478991518a81"
      },
      "outputs": [
        {
          "data": {
            "text/html": [
              "<div>\n",
              "<style scoped>\n",
              "    .dataframe tbody tr th:only-of-type {\n",
              "        vertical-align: middle;\n",
              "    }\n",
              "\n",
              "    .dataframe tbody tr th {\n",
              "        vertical-align: top;\n",
              "    }\n",
              "\n",
              "    .dataframe thead th {\n",
              "        text-align: right;\n",
              "    }\n",
              "</style>\n",
              "<table border=\"1\" class=\"dataframe\">\n",
              "  <thead>\n",
              "    <tr style=\"text-align: right;\">\n",
              "      <th></th>\n",
              "      <th>tickers</th>\n",
              "      <th>eps</th>\n",
              "      <th>revenue</th>\n",
              "      <th>price</th>\n",
              "      <th>people</th>\n",
              "    </tr>\n",
              "  </thead>\n",
              "  <tbody>\n",
              "    <tr>\n",
              "      <th>0</th>\n",
              "      <td>GOOGL</td>\n",
              "      <td>27.82</td>\n",
              "      <td>87</td>\n",
              "      <td>845</td>\n",
              "      <td>larry page</td>\n",
              "    </tr>\n",
              "    <tr>\n",
              "      <th>1</th>\n",
              "      <td>WMT</td>\n",
              "      <td>4.61</td>\n",
              "      <td>484</td>\n",
              "      <td>65</td>\n",
              "      <td>n.a.</td>\n",
              "    </tr>\n",
              "  </tbody>\n",
              "</table>\n",
              "</div>"
            ],
            "text/plain": [
              "  tickers    eps  revenue  price      people\n",
              "0   GOOGL  27.82       87    845  larry page\n",
              "1     WMT   4.61      484     65        n.a."
            ]
          },
          "execution_count": 5,
          "metadata": {},
          "output_type": "execute_result"
        }
      ],
      "source": [
        "#here we read dataframe of first two rows\n",
        "df = pd.read_csv(\"stock_data.csv\",  nrows=2)\n",
        "df"
      ]
    },
    {
      "cell_type": "code",
      "execution_count": null,
      "metadata": {
        "id": "kEQEF9kpu04z",
        "outputId": "eb7a1ac3-6dfb-4df6-93d2-2c8cf1072203"
      },
      "outputs": [
        {
          "data": {
            "text/html": [
              "<div>\n",
              "<style scoped>\n",
              "    .dataframe tbody tr th:only-of-type {\n",
              "        vertical-align: middle;\n",
              "    }\n",
              "\n",
              "    .dataframe tbody tr th {\n",
              "        vertical-align: top;\n",
              "    }\n",
              "\n",
              "    .dataframe thead th {\n",
              "        text-align: right;\n",
              "    }\n",
              "</style>\n",
              "<table border=\"1\" class=\"dataframe\">\n",
              "  <thead>\n",
              "    <tr style=\"text-align: right;\">\n",
              "      <th></th>\n",
              "      <th>tickers</th>\n",
              "      <th>eps</th>\n",
              "      <th>revenue</th>\n",
              "      <th>price</th>\n",
              "      <th>people</th>\n",
              "    </tr>\n",
              "  </thead>\n",
              "  <tbody>\n",
              "    <tr>\n",
              "      <th>0</th>\n",
              "      <td>GOOGL</td>\n",
              "      <td>27.82</td>\n",
              "      <td>87</td>\n",
              "      <td>845.0</td>\n",
              "      <td>larry page</td>\n",
              "    </tr>\n",
              "    <tr>\n",
              "      <th>1</th>\n",
              "      <td>WMT</td>\n",
              "      <td>4.61</td>\n",
              "      <td>484</td>\n",
              "      <td>65.0</td>\n",
              "      <td>NaN</td>\n",
              "    </tr>\n",
              "    <tr>\n",
              "      <th>2</th>\n",
              "      <td>MSFT</td>\n",
              "      <td>-1.00</td>\n",
              "      <td>85</td>\n",
              "      <td>64.0</td>\n",
              "      <td>bill gates</td>\n",
              "    </tr>\n",
              "    <tr>\n",
              "      <th>3</th>\n",
              "      <td>RIL</td>\n",
              "      <td>NaN</td>\n",
              "      <td>50</td>\n",
              "      <td>1023.0</td>\n",
              "      <td>mukesh ambani</td>\n",
              "    </tr>\n",
              "    <tr>\n",
              "      <th>4</th>\n",
              "      <td>TATA</td>\n",
              "      <td>5.60</td>\n",
              "      <td>-1</td>\n",
              "      <td>NaN</td>\n",
              "      <td>ratan tata</td>\n",
              "    </tr>\n",
              "  </tbody>\n",
              "</table>\n",
              "</div>"
            ],
            "text/plain": [
              "  tickers    eps  revenue   price         people\n",
              "0   GOOGL  27.82       87   845.0     larry page\n",
              "1     WMT   4.61      484    65.0            NaN\n",
              "2    MSFT  -1.00       85    64.0     bill gates\n",
              "3    RIL     NaN       50  1023.0  mukesh ambani\n",
              "4    TATA   5.60       -1     NaN     ratan tata"
            ]
          },
          "execution_count": 6,
          "metadata": {},
          "output_type": "execute_result"
        }
      ],
      "source": [
        "# Read the stock data from a CSV file into a DataFrame, replacing 'n.a.' and 'not available' with NaN values\n",
        "df = pd.read_csv(\"stock_data.csv\", na_values=[\"n.a.\", \"not available\"])\n",
        "\n",
        "# Display the DataFrame\n",
        "df\n"
      ]
    },
    {
      "cell_type": "code",
      "execution_count": null,
      "metadata": {
        "scrolled": true,
        "id": "N3nnEsQyu040",
        "outputId": "d78f281b-d633-48c0-ca5d-129f847d5e6c"
      },
      "outputs": [
        {
          "data": {
            "text/html": [
              "<div>\n",
              "<style scoped>\n",
              "    .dataframe tbody tr th:only-of-type {\n",
              "        vertical-align: middle;\n",
              "    }\n",
              "\n",
              "    .dataframe tbody tr th {\n",
              "        vertical-align: top;\n",
              "    }\n",
              "\n",
              "    .dataframe thead th {\n",
              "        text-align: right;\n",
              "    }\n",
              "</style>\n",
              "<table border=\"1\" class=\"dataframe\">\n",
              "  <thead>\n",
              "    <tr style=\"text-align: right;\">\n",
              "      <th></th>\n",
              "      <th>tickers</th>\n",
              "      <th>eps</th>\n",
              "      <th>revenue</th>\n",
              "      <th>price</th>\n",
              "      <th>people</th>\n",
              "    </tr>\n",
              "  </thead>\n",
              "  <tbody>\n",
              "    <tr>\n",
              "      <th>0</th>\n",
              "      <td>GOOGL</td>\n",
              "      <td>27.82</td>\n",
              "      <td>87.0</td>\n",
              "      <td>845</td>\n",
              "      <td>larry page</td>\n",
              "    </tr>\n",
              "    <tr>\n",
              "      <th>1</th>\n",
              "      <td>WMT</td>\n",
              "      <td>4.61</td>\n",
              "      <td>484.0</td>\n",
              "      <td>65</td>\n",
              "      <td>NaN</td>\n",
              "    </tr>\n",
              "    <tr>\n",
              "      <th>2</th>\n",
              "      <td>MSFT</td>\n",
              "      <td>-1.00</td>\n",
              "      <td>85.0</td>\n",
              "      <td>64</td>\n",
              "      <td>bill gates</td>\n",
              "    </tr>\n",
              "    <tr>\n",
              "      <th>3</th>\n",
              "      <td>RIL</td>\n",
              "      <td>NaN</td>\n",
              "      <td>50.0</td>\n",
              "      <td>1023</td>\n",
              "      <td>mukesh ambani</td>\n",
              "    </tr>\n",
              "    <tr>\n",
              "      <th>4</th>\n",
              "      <td>TATA</td>\n",
              "      <td>5.60</td>\n",
              "      <td>NaN</td>\n",
              "      <td>n.a.</td>\n",
              "      <td>ratan tata</td>\n",
              "    </tr>\n",
              "  </tbody>\n",
              "</table>\n",
              "</div>"
            ],
            "text/plain": [
              "  tickers    eps  revenue price         people\n",
              "0   GOOGL  27.82     87.0   845     larry page\n",
              "1     WMT   4.61    484.0    65            NaN\n",
              "2    MSFT  -1.00     85.0    64     bill gates\n",
              "3    RIL     NaN     50.0  1023  mukesh ambani\n",
              "4    TATA   5.60      NaN  n.a.     ratan tata"
            ]
          },
          "execution_count": 9,
          "metadata": {},
          "output_type": "execute_result"
        }
      ],
      "source": [
        "# Read the stock data from a CSV file into a DataFrame, replacing specific values with NaN for missing or unavailable data\n",
        "df = pd.read_csv(\"stock_data.csv\", na_values={\n",
        "        'eps': ['not available'],  # Replace 'not available' with NaN in the 'eps' column\n",
        "        'revenue': [-1],  # Replace -1 with NaN in the 'revenue' column\n",
        "        'people': ['not available','n.a.']  # Replace 'not available' and 'n.a.' with NaN in the 'people' column\n",
        "    })\n",
        "\n",
        "# Display the DataFrame\n",
        "df\n"
      ]
    },
    {
      "cell_type": "markdown",
      "metadata": {
        "id": "w5mECSD7u040"
      },
      "source": [
        "<font color=\"blue\">Write to CSV</color>"
      ]
    },
    {
      "cell_type": "code",
      "execution_count": null,
      "metadata": {
        "id": "O0XMW53gu041"
      },
      "outputs": [],
      "source": [
        "df.to_csv(\"new1.csv\", index=False)\n",
        "# Write the DataFrame 'df' to a CSV file named 'new1.csv' without including index\n"
      ]
    },
    {
      "cell_type": "code",
      "execution_count": null,
      "metadata": {
        "scrolled": true,
        "id": "1euUjW_Bu041",
        "outputId": "c58a1cfd-1600-4805-f216-ab1cee5fe8ba"
      },
      "outputs": [
        {
          "data": {
            "text/plain": [
              "Index(['tickers', 'eps', 'revenue', 'price', 'people'], dtype='object')"
            ]
          },
          "execution_count": 12,
          "metadata": {},
          "output_type": "execute_result"
        }
      ],
      "source": [
        "df.columns\n",
        "#show the name of column"
      ]
    },
    {
      "cell_type": "code",
      "execution_count": null,
      "metadata": {
        "id": "k_aLjpWpu041"
      },
      "outputs": [],
      "source": [
        "# Write the DataFrame 'df' to a CSV file named 'new1.csv' without including index or header\n",
        "df.to_csv(\"new1.csv\", index=False, header=False)\n"
      ]
    },
    {
      "cell_type": "code",
      "execution_count": null,
      "metadata": {
        "collapsed": true,
        "jupyter": {
          "outputs_hidden": true
        },
        "id": "cYP1ZRliu042"
      },
      "outputs": [],
      "source": [
        "df.to_csv(\"new1.csv\", columns=[\"tickers\",\"price\"], index=False)\n",
        "# Write the DataFrame 'df' to a CSV file named 'new1.csv' without including index or header\n",
        "#and make the dataframe with two column name tickers and price"
      ]
    },
    {
      "cell_type": "markdown",
      "metadata": {
        "id": "q1B6h1sru042"
      },
      "source": [
        "### <font color=\"blue\">Read Excel</color>"
      ]
    },
    {
      "cell_type": "code",
      "execution_count": null,
      "metadata": {
        "scrolled": true,
        "id": "mgq4xEz9u042",
        "outputId": "12b00c90-9a78-4efe-804e-7d18f196e9df"
      },
      "outputs": [
        {
          "data": {
            "text/html": [
              "<div>\n",
              "<style scoped>\n",
              "    .dataframe tbody tr th:only-of-type {\n",
              "        vertical-align: middle;\n",
              "    }\n",
              "\n",
              "    .dataframe tbody tr th {\n",
              "        vertical-align: top;\n",
              "    }\n",
              "\n",
              "    .dataframe thead th {\n",
              "        text-align: right;\n",
              "    }\n",
              "</style>\n",
              "<table border=\"1\" class=\"dataframe\">\n",
              "  <thead>\n",
              "    <tr style=\"text-align: right;\">\n",
              "      <th></th>\n",
              "      <th>tickers</th>\n",
              "      <th>eps</th>\n",
              "      <th>revenue</th>\n",
              "      <th>price</th>\n",
              "      <th>people</th>\n",
              "    </tr>\n",
              "  </thead>\n",
              "  <tbody>\n",
              "    <tr>\n",
              "      <th>0</th>\n",
              "      <td>GOOGL</td>\n",
              "      <td>27.82</td>\n",
              "      <td>87</td>\n",
              "      <td>845</td>\n",
              "      <td>larry page</td>\n",
              "    </tr>\n",
              "    <tr>\n",
              "      <th>1</th>\n",
              "      <td>WMT</td>\n",
              "      <td>4.61</td>\n",
              "      <td>484</td>\n",
              "      <td>65</td>\n",
              "      <td>n.a.</td>\n",
              "    </tr>\n",
              "    <tr>\n",
              "      <th>2</th>\n",
              "      <td>MSFT</td>\n",
              "      <td>-1</td>\n",
              "      <td>85</td>\n",
              "      <td>64</td>\n",
              "      <td>bill gates</td>\n",
              "    </tr>\n",
              "    <tr>\n",
              "      <th>3</th>\n",
              "      <td>RIL</td>\n",
              "      <td>not available</td>\n",
              "      <td>50</td>\n",
              "      <td>1023</td>\n",
              "      <td>mukesh ambani</td>\n",
              "    </tr>\n",
              "    <tr>\n",
              "      <th>4</th>\n",
              "      <td>TATA</td>\n",
              "      <td>5.6</td>\n",
              "      <td>-1</td>\n",
              "      <td>n.a.</td>\n",
              "      <td>ratan tata</td>\n",
              "    </tr>\n",
              "  </tbody>\n",
              "</table>\n",
              "</div>"
            ],
            "text/plain": [
              "  tickers            eps  revenue price         people\n",
              "0   GOOGL          27.82       87   845     larry page\n",
              "1     WMT           4.61      484    65           n.a.\n",
              "2    MSFT             -1       85    64     bill gates\n",
              "3    RIL   not available       50  1023  mukesh ambani\n",
              "4    TATA            5.6       -1  n.a.     ratan tata"
            ]
          },
          "execution_count": 16,
          "metadata": {},
          "output_type": "execute_result"
        }
      ],
      "source": [
        "df = pd.read_excel(\"stock_data.xlsx\",\"Sheet1\")\n",
        "#read the excel sheet\n",
        "df"
      ]
    },
    {
      "cell_type": "code",
      "execution_count": null,
      "metadata": {
        "id": "jAri7O7lu042",
        "outputId": "71a199e9-3f34-426f-c644-18fda50ca894"
      },
      "outputs": [
        {
          "data": {
            "text/html": [
              "<div>\n",
              "<style scoped>\n",
              "    .dataframe tbody tr th:only-of-type {\n",
              "        vertical-align: middle;\n",
              "    }\n",
              "\n",
              "    .dataframe tbody tr th {\n",
              "        vertical-align: top;\n",
              "    }\n",
              "\n",
              "    .dataframe thead th {\n",
              "        text-align: right;\n",
              "    }\n",
              "</style>\n",
              "<table border=\"1\" class=\"dataframe\">\n",
              "  <thead>\n",
              "    <tr style=\"text-align: right;\">\n",
              "      <th></th>\n",
              "      <th>tickers</th>\n",
              "      <th>eps</th>\n",
              "      <th>revenue</th>\n",
              "      <th>price</th>\n",
              "      <th>people</th>\n",
              "    </tr>\n",
              "  </thead>\n",
              "  <tbody>\n",
              "    <tr>\n",
              "      <th>0</th>\n",
              "      <td>GOOGL</td>\n",
              "      <td>27.82</td>\n",
              "      <td>87</td>\n",
              "      <td>845</td>\n",
              "      <td>larry page</td>\n",
              "    </tr>\n",
              "    <tr>\n",
              "      <th>1</th>\n",
              "      <td>WMT</td>\n",
              "      <td>4.61</td>\n",
              "      <td>484</td>\n",
              "      <td>65</td>\n",
              "      <td>Sam</td>\n",
              "    </tr>\n",
              "    <tr>\n",
              "      <th>2</th>\n",
              "      <td>MSFT</td>\n",
              "      <td>-1</td>\n",
              "      <td>85</td>\n",
              "      <td>64</td>\n",
              "      <td>bill gates</td>\n",
              "    </tr>\n",
              "    <tr>\n",
              "      <th>3</th>\n",
              "      <td>RIL</td>\n",
              "      <td>not available</td>\n",
              "      <td>50</td>\n",
              "      <td>1023</td>\n",
              "      <td>mukesh ambani</td>\n",
              "    </tr>\n",
              "    <tr>\n",
              "      <th>4</th>\n",
              "      <td>TATA</td>\n",
              "      <td>5.6</td>\n",
              "      <td>-1</td>\n",
              "      <td>100</td>\n",
              "      <td>ratan tata</td>\n",
              "    </tr>\n",
              "  </tbody>\n",
              "</table>\n",
              "</div>"
            ],
            "text/plain": [
              "  tickers            eps  revenue  price         people\n",
              "0   GOOGL          27.82       87    845     larry page\n",
              "1     WMT           4.61      484     65            Sam\n",
              "2    MSFT             -1       85     64     bill gates\n",
              "3    RIL   not available       50   1023  mukesh ambani\n",
              "4    TATA            5.6       -1    100     ratan tata"
            ]
          },
          "execution_count": 22,
          "metadata": {},
          "output_type": "execute_result"
        }
      ],
      "source": [
        "# Define custom functions to convert specific cell values in the Excel file\n",
        "\n",
        "def convert_people_cell(cell):\n",
        "    if cell == \"n.a.\":\n",
        "        return 'Sam'\n",
        "    return cell\n",
        "\n",
        "def convert_price_cell(cell):\n",
        "    if cell == \"n.a.\":\n",
        "        return 100\n",
        "    return cell\n",
        "\n",
        "# Read data from the \"Sheet1\" of an Excel file into a DataFrame,\n",
        "# applying custom converters to the 'people' and 'price' columns\n",
        "df = pd.read_excel(\"stock_data.xlsx\", \"Sheet1\", converters={\n",
        "        'people': convert_people_cell,\n",
        "        'price': convert_price_cell\n",
        "    })\n",
        "\n",
        "# Display the resulting DataFrame\n",
        "df\n"
      ]
    },
    {
      "cell_type": "markdown",
      "metadata": {
        "id": "pfsZBnvLu043"
      },
      "source": [
        "### <font color=\"blue\">Write to Excel</color>"
      ]
    },
    {
      "cell_type": "code",
      "execution_count": null,
      "metadata": {
        "scrolled": true,
        "id": "j6FAfy3Nu043"
      },
      "outputs": [],
      "source": [
        "# Write the DataFrame 'df' to an Excel file named 'new.xlsx' with a sheet named 'stocks',\n",
        "# starting at row 2 and column 1, without including the index column\n",
        "\n",
        "df.to_excel(\"new.xlsx\", sheet_name=\"stocks\", index=False, startrow=2, startcol=1)\n"
      ]
    },
    {
      "cell_type": "markdown",
      "metadata": {
        "id": "aT2GO7Lru043"
      },
      "source": [
        "**Write two dataframes to two separate sheets in excel**"
      ]
    },
    {
      "cell_type": "code",
      "execution_count": null,
      "metadata": {
        "collapsed": true,
        "jupyter": {
          "outputs_hidden": true
        },
        "id": "LX3kDtDmu043"
      },
      "outputs": [],
      "source": [
        "df_stocks = pd.DataFrame({\n",
        "    'tickers': ['GOOGL', 'WMT', 'MSFT'],\n",
        "    'price': [845, 65, 64 ],\n",
        "    'pe': [30.37, 14.26, 30.97],\n",
        "    'eps': [27.82, 4.61, 2.12]\n",
        "})\n",
        "#here we make the datafrome\n",
        "df_weather =  pd.DataFrame({\n",
        "    'day': ['1/1/2017','1/2/2017','1/3/2017'],\n",
        "    'temperature': [32,35,28],\n",
        "    'event': ['Rain', 'Sunny', 'Snow']\n",
        "})"
      ]
    },
    {
      "cell_type": "code",
      "execution_count": null,
      "metadata": {
        "id": "nHVi2t7Du043"
      },
      "outputs": [],
      "source": [
        "# Write two DataFrames, 'df_stocks' and 'df_weather', to an Excel file named 'stocks_weather.xlsx'\n",
        "# using a context manager with the ExcelWriter object\n",
        "\n",
        "with pd.ExcelWriter('stocks_weather.xlsx') as writer:\n",
        "    df_stocks.to_excel(writer, sheet_name=\"stocks\")   # Write 'df_stocks' to the 'stocks' sheet\n",
        "    df_weather.to_excel(writer, sheet_name=\"weather\") # Write 'df_weather' to the 'weather' sheet\n"
      ]
    }
  ],
  "metadata": {
    "anaconda-cloud": {},
    "kernelspec": {
      "display_name": "Python 3 (ipykernel)",
      "language": "python",
      "name": "python3"
    },
    "language_info": {
      "codemirror_mode": {
        "name": "ipython",
        "version": 3
      },
      "file_extension": ".py",
      "mimetype": "text/x-python",
      "name": "python",
      "nbconvert_exporter": "python",
      "pygments_lexer": "ipython3",
      "version": "3.10.9"
    },
    "colab": {
      "provenance": [],
      "include_colab_link": true
    }
  },
  "nbformat": 4,
  "nbformat_minor": 0
}