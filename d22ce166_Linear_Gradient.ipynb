{
  "cells": [
    {
      "cell_type": "markdown",
      "metadata": {
        "id": "view-in-github",
        "colab_type": "text"
      },
      "source": [
        "<a href=\"https://colab.research.google.com/github/het-khatusuriya/ML/blob/main/d22ce166_Linear_Gradient.ipynb\" target=\"_parent\"><img src=\"https://colab.research.google.com/assets/colab-badge.svg\" alt=\"Open In Colab\"/></a>"
      ]
    },
    {
      "cell_type": "code",
      "execution_count": null,
      "metadata": {
        "id": "gAxkVFHuxjPS"
      },
      "outputs": [],
      "source": [
        "import numpy as np\n",
        "import pandas as pd\n",
        "import matplotlib.pyplot as plt"
      ]
    },
    {
      "cell_type": "code",
      "execution_count": null,
      "metadata": {
        "id": "-afenqEyxjPT"
      },
      "outputs": [],
      "source": [
        "# Cost function\n",
        "def cost_function(theta0, theta1, X, y):\n",
        "    m = len(y)  # Number of training examples\n",
        "    h = theta0 + theta1 * X  # Hypothesis function (linear model)\n",
        "    cost = (1 / (2 * m)) * np.sum((h - y) ** 2)  # Mean squared error\n",
        "    return cost"
      ]
    },
    {
      "cell_type": "code",
      "execution_count": null,
      "metadata": {
        "id": "PJHSAbNhxjPU"
      },
      "outputs": [],
      "source": [
        "# Gradient descent function\n",
        "def gradient_descent(X, y, theta0, theta1, alpha, num_iterations):\n",
        "    m = len(y)  # Number of training examples\n",
        "    J_history = np.zeros(num_iterations)  # Array to store the cost at each iteration\n",
        "\n",
        "    for i in range(num_iterations):\n",
        "        h = theta0 + theta1 * X  # Hypothesis function (linear model)\n",
        "        error = h - y  # Difference between predicted and actual values\n",
        "        gradient0 = (1 / m) * np.sum(error)\n",
        "        gradient1 = (1 / m) * np.sum(error * X)\n",
        "        theta0 -= alpha * gradient0\n",
        "        theta1 -= alpha * gradient1\n",
        "        J_history[i] = cost_function(theta0, theta1, X, y)\n",
        "\n",
        "    return theta0, theta1, J_history"
      ]
    },
    {
      "cell_type": "code",
      "execution_count": null,
      "metadata": {
        "id": "rBrgo37fxjPU"
      },
      "outputs": [],
      "source": [
        "# dataset\n",
        "data = pd.read_csv(\"canada_per_capita_income.csv\")"
      ]
    },
    {
      "cell_type": "code",
      "execution_count": null,
      "metadata": {
        "id": "41bTrASaxjPU"
      },
      "outputs": [],
      "source": [
        "# Extracting the features X and target y\n",
        "X = data[\"year\"].values\n",
        "y = data[\"pc\"].values"
      ]
    },
    {
      "cell_type": "code",
      "execution_count": null,
      "metadata": {
        "id": "JXRGxThxxjPV"
      },
      "outputs": [],
      "source": [
        "# Initialize theta and other hyperparameters\n",
        "theta0 = 0  # Initialize theta0 to zero\n",
        "theta1 = 0  # Initialize theta1 to zero\n",
        "alpha = 0.01  # Learning rate\n",
        "num_iterations = 1000  # Number of iterations"
      ]
    },
    {
      "cell_type": "code",
      "execution_count": null,
      "metadata": {
        "id": "WTMKlhgqxjPV"
      },
      "outputs": [],
      "source": [
        "# Run gradient descent to find the optimized theta0 and theta1\n",
        "theta0, theta1, J_history = gradient_descent(X, y, theta0, theta1, alpha, num_iterations)"
      ]
    },
    {
      "cell_type": "code",
      "execution_count": null,
      "metadata": {
        "id": "VjIsshLFxjPV"
      },
      "outputs": [],
      "source": [
        "# Print the optimized theta0 and theta1 and the final cost\n",
        "print(\"Optimized theta0:\", theta0)\n",
        "print(\"Optimized theta1:\", theta1)\n",
        "print(\"Final cost:\", J_history[-1])"
      ]
    },
    {
      "cell_type": "code",
      "execution_count": null,
      "metadata": {
        "id": "iRk8-iL8xjPV"
      },
      "outputs": [],
      "source": [
        "# Plot the cost function over iterations\n",
        "plt.plot(np.arange(num_iterations), J_history)\n",
        "plt.xlabel(\"Iterations\")\n",
        "plt.ylabel(\"Cost\")\n",
        "plt.title(\"Cost function over iterations\")\n",
        "plt.show()"
      ]
    },
    {
      "cell_type": "code",
      "execution_count": null,
      "metadata": {
        "id": "PQVblN0jxjPW"
      },
      "outputs": [],
      "source": [
        "# predict function\n",
        "def predict(value):\n",
        "    return theta0 + theta1 * value"
      ]
    },
    {
      "cell_type": "code",
      "execution_count": null,
      "metadata": {
        "id": "8CoI8EbhxjPW"
      },
      "outputs": [],
      "source": [
        "print(predict(2014))"
      ]
    }
  ],
  "metadata": {
    "language_info": {
      "name": "python"
    },
    "orig_nbformat": 4,
    "colab": {
      "provenance": [],
      "include_colab_link": true
    }
  },
  "nbformat": 4,
  "nbformat_minor": 0
}