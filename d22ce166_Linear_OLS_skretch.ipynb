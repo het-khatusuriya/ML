{
  "cells": [
    {
      "cell_type": "markdown",
      "metadata": {
        "id": "view-in-github",
        "colab_type": "text"
      },
      "source": [
        "<a href=\"https://colab.research.google.com/github/het-khatusuriya/ML/blob/main/d22ce166_Linear_OLS_skretch.ipynb\" target=\"_parent\"><img src=\"https://colab.research.google.com/assets/colab-badge.svg\" alt=\"Open In Colab\"/></a>"
      ]
    },
    {
      "cell_type": "code",
      "execution_count": null,
      "metadata": {
        "id": "c7zmt-bzy9m_"
      },
      "outputs": [],
      "source": [
        "import pandas as pd\n",
        "import matplotlib.pyplot as mp\n",
        "import numpy as num"
      ]
    },
    {
      "cell_type": "code",
      "execution_count": null,
      "metadata": {
        "id": "BH4QH_XKy9nB"
      },
      "outputs": [],
      "source": [
        "class linear_regression:\n",
        "\n",
        "    slope = 0\n",
        "    intercept = 0\n",
        "\n",
        "    def __init__(self) -> None:\n",
        "        pass\n",
        "\n",
        "    def findslope(self):\n",
        "        x_avg = self.x.year.mean()\n",
        "        y_avg = self.y.pc.mean()\n",
        "\n",
        "        x_mean = []\n",
        "        y_mean = []\n",
        "\n",
        "        for i in num.asarray(self.x):\n",
        "            value = i[0] - x_avg\n",
        "            x_mean.append(value)\n",
        "\n",
        "        for i in num.asarray(self.y):\n",
        "            value = i[0] - y_avg\n",
        "            y_mean.append(value)\n",
        "\n",
        "        ansup = 0\n",
        "        ansdown = 0\n",
        "\n",
        "        for i in range(len(x_mean)):\n",
        "            ansup += x_mean[i]*y_mean[i]\n",
        "            ansdown += x_mean[i]*x_mean[i]\n",
        "\n",
        "        m = ansup/ansdown\n",
        "\n",
        "        b = y_avg - (m*x_avg)\n",
        "\n",
        "        self.slope = m\n",
        "        self.intercept = b\n",
        "\n",
        "    def fit(self, x, y):\n",
        "        self.x = x\n",
        "        self.y = y\n",
        "        self.findslope()\n",
        "\n",
        "    def predict(self, value):\n",
        "        return self.slope * value + self.intercept"
      ]
    },
    {
      "cell_type": "code",
      "execution_count": null,
      "metadata": {
        "id": "aJNdev-Sy9nC"
      },
      "outputs": [],
      "source": [
        "# dataset\n",
        "dp = pd.read_csv(\"Linear_Regression\\canada_per_capita_income.csv\")"
      ]
    },
    {
      "cell_type": "code",
      "execution_count": null,
      "metadata": {
        "id": "xFHgbhZzy9nD"
      },
      "outputs": [],
      "source": [
        "# Extracting feature x and target y\n",
        "x = dp.drop(columns='pc')\n",
        "y = dp.drop(columns='year')"
      ]
    },
    {
      "cell_type": "code",
      "execution_count": null,
      "metadata": {
        "id": "oD-QmoDwy9nD"
      },
      "outputs": [],
      "source": [
        "# Object of Linear Regression model\n",
        "model = linear_regression()"
      ]
    },
    {
      "cell_type": "code",
      "execution_count": null,
      "metadata": {
        "id": "bPtrVRcIy9nD"
      },
      "outputs": [],
      "source": [
        "# Fitting the model\n",
        "model.fit(x, y)"
      ]
    },
    {
      "cell_type": "code",
      "execution_count": null,
      "metadata": {
        "id": "OfxRs6Aqy9nE"
      },
      "outputs": [],
      "source": [
        "# Predicting value\n",
        "print(model.predict(2014))"
      ]
    }
  ],
  "metadata": {
    "language_info": {
      "name": "python"
    },
    "orig_nbformat": 4,
    "colab": {
      "provenance": [],
      "include_colab_link": true
    }
  },
  "nbformat": 4,
  "nbformat_minor": 0
}