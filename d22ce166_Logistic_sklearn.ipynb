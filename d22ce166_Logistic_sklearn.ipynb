{
  "cells": [
    {
      "cell_type": "markdown",
      "metadata": {
        "id": "view-in-github",
        "colab_type": "text"
      },
      "source": [
        "<a href=\"https://colab.research.google.com/github/het-khatusuriya/ML/blob/main/d22ce166_Logistic_sklearn.ipynb\" target=\"_parent\"><img src=\"https://colab.research.google.com/assets/colab-badge.svg\" alt=\"Open In Colab\"/></a>"
      ]
    },
    {
      "cell_type": "code",
      "execution_count": null,
      "metadata": {
        "id": "rJ0FLwaXz5oo"
      },
      "outputs": [],
      "source": [
        "import pandas as pd\n",
        "import matplotlib.pyplot as mp\n",
        "import numpy as num\n",
        "from sklearn.linear_model import LogisticRegression\n",
        "from sklearn.model_selection import train_test_split"
      ]
    },
    {
      "cell_type": "code",
      "execution_count": null,
      "metadata": {
        "id": "GRcShwbQz5or"
      },
      "outputs": [],
      "source": [
        "# dataset\n",
        "dp = pd.read_csv(\"Logistic_Regression\\datatitanic.csv\")"
      ]
    },
    {
      "cell_type": "code",
      "execution_count": null,
      "metadata": {
        "id": "kXr7rzncz5os"
      },
      "outputs": [],
      "source": [
        "# Preprocessing of data\n",
        "dp.drop([\"Cabin\"], axis=1, inplace=True)\n",
        "\n",
        "dp.fillna({\"Age\": dp[\"Age\"].mean}, inplace=True)\n",
        "\n",
        "dp.dropna(inplace=True)\n",
        "\n",
        "dp[\"Sex\"] = dp[\"Sex\"].map({'female': 0, 'male': 1})"
      ]
    },
    {
      "cell_type": "code",
      "execution_count": null,
      "metadata": {
        "id": "8eT2Vqsdz5ot"
      },
      "outputs": [],
      "source": [
        "# Extracting the features and target y\n",
        "X = dp.iloc[:,2:]\n",
        "y = dp.iloc[:,1]"
      ]
    },
    {
      "cell_type": "code",
      "execution_count": null,
      "metadata": {
        "id": "M5GCwyhYz5ot"
      },
      "outputs": [],
      "source": [
        "# creating the model\n",
        "model  = LogisticRegression()"
      ]
    },
    {
      "cell_type": "code",
      "execution_count": null,
      "metadata": {
        "id": "V7Ck-jafz5ot"
      },
      "outputs": [],
      "source": [
        "# spliting data into train and test data\n",
        "X_train, y_train, X_test, y_test = train_test_split(X, y, test_size=0.2, random_state=42)"
      ]
    },
    {
      "cell_type": "code",
      "execution_count": null,
      "metadata": {
        "id": "_I8oG99-z5ou"
      },
      "outputs": [],
      "source": [
        "# Fitting the model\n",
        "model.fit(X, y)\n",
        "\n",
        "print(model.score(X, y))"
      ]
    }
  ],
  "metadata": {
    "language_info": {
      "name": "python"
    },
    "orig_nbformat": 4,
    "colab": {
      "provenance": [],
      "include_colab_link": true
    }
  },
  "nbformat": 4,
  "nbformat_minor": 0
}