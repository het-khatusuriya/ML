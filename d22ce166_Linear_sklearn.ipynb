{
  "cells": [
    {
      "cell_type": "markdown",
      "metadata": {
        "id": "view-in-github",
        "colab_type": "text"
      },
      "source": [
        "<a href=\"https://colab.research.google.com/github/het-khatusuriya/ML/blob/main/d22ce166_Linear_sklearn.ipynb\" target=\"_parent\"><img src=\"https://colab.research.google.com/assets/colab-badge.svg\" alt=\"Open In Colab\"/></a>"
      ]
    },
    {
      "cell_type": "code",
      "execution_count": 1,
      "metadata": {
        "id": "E2P3JXctvyOP"
      },
      "outputs": [],
      "source": [
        "import pandas as pd\n",
        "import matplotlib.pyplot as mp\n",
        "from sklearn.linear_model import LinearRegression"
      ]
    },
    {
      "cell_type": "code",
      "execution_count": null,
      "metadata": {
        "id": "uerl0Nm9vyOT"
      },
      "outputs": [],
      "source": [
        "# dataset\n",
        "dp = pd.read_csv(\"Linear_Regression\\canada_per_capita_income.csv\")"
      ]
    },
    {
      "cell_type": "code",
      "execution_count": null,
      "metadata": {
        "id": "_uWIxKY0vyOU"
      },
      "outputs": [],
      "source": [
        "# Extracting freatures X and target feature y\n",
        "x = dp.drop(columns='pc')\n",
        "y = dp.drop(columns='year')"
      ]
    },
    {
      "cell_type": "code",
      "execution_count": null,
      "metadata": {
        "id": "aKX8BLMvvyOV"
      },
      "outputs": [],
      "source": [
        "# Plotting graph\n",
        "mp.plot(x,y)\n",
        "mp.show()"
      ]
    },
    {
      "cell_type": "code",
      "execution_count": null,
      "metadata": {
        "id": "M2G_h0KivyOW"
      },
      "outputs": [],
      "source": [
        "# Loading model from sklearn\n",
        "model  = LinearRegression()"
      ]
    },
    {
      "cell_type": "code",
      "execution_count": null,
      "metadata": {
        "id": "H74sZqThvyOX"
      },
      "outputs": [],
      "source": [
        "# Fitting model with features\n",
        "model.fit(x, y)"
      ]
    },
    {
      "cell_type": "code",
      "execution_count": null,
      "metadata": {
        "id": "rh-8ZTQfvyOX"
      },
      "outputs": [],
      "source": [
        "# model accuracy\n",
        "print(model.score(x, y))"
      ]
    },
    {
      "cell_type": "code",
      "execution_count": null,
      "metadata": {
        "id": "G3Ja268nvyOY"
      },
      "outputs": [],
      "source": [
        "# model prediction\n",
        "print(model.predict([[2014]]))"
      ]
    }
  ],
  "metadata": {
    "language_info": {
      "name": "python"
    },
    "orig_nbformat": 4,
    "colab": {
      "provenance": [],
      "include_colab_link": true
    },
    "kernelspec": {
      "name": "python3",
      "display_name": "Python 3"
    }
  },
  "nbformat": 4,
  "nbformat_minor": 0
}